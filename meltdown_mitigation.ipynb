{
 "cells": [
  {
   "cell_type": "code",
   "execution_count": null,
   "metadata": {},
   "outputs": [],
   "source": [
    "def is_criticality_balanced(temperature, neutrons_emmited):\n",
    "\n",
    "    if( temperature < 800 and neutrons_emmited > 500\n",
    "       and temperature * neutrons_emmited < 500000):\n",
    "        return True\n",
    "    else:\n",
    "        return False"
   ]
  }
 ],
 "metadata": {
  "language_info": {
   "name": "python"
  }
 },
 "nbformat": 4,
 "nbformat_minor": 2
}
